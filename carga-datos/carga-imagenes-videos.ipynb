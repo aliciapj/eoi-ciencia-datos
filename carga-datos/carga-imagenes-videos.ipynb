{
 "cells": [
  {
   "cell_type": "markdown",
   "id": "alpine-ethernet",
   "metadata": {
    "slideshow": {
     "slide_type": "slide"
    }
   },
   "source": [
    "# Carga de datos - imágenes & vídeos"
   ]
  },
  {
   "cell_type": "markdown",
   "id": "alpine-dietary",
   "metadata": {
    "slideshow": {
     "slide_type": "subslide"
    }
   },
   "source": [
    "## Motivación"
   ]
  },
  {
   "cell_type": "markdown",
   "id": "middle-hudson",
   "metadata": {},
   "source": [
    "## Pillow"
   ]
  },
  {
   "cell_type": "markdown",
   "id": "color-ribbon",
   "metadata": {},
   "source": [
    "## OpenCV"
   ]
  },
  {
   "cell_type": "markdown",
   "id": "mobile-shirt",
   "metadata": {
    "slideshow": {
     "slide_type": "slide"
    }
   },
   "source": [
    "# Recursos\n",
    "- "
   ]
  },
  {
   "cell_type": "markdown",
   "id": "seasonal-punch",
   "metadata": {
    "slideshow": {
     "slide_type": "slide"
    }
   },
   "source": [
    "# Ejercicios\n",
    "- "
   ]
  }
 ],
 "metadata": {
  "celltoolbar": "Slideshow",
  "kernelspec": {
   "display_name": "Python 3",
   "language": "python",
   "name": "python3"
  },
  "language_info": {
   "codemirror_mode": {
    "name": "ipython",
    "version": 3
   },
   "file_extension": ".py",
   "mimetype": "text/x-python",
   "name": "python",
   "nbconvert_exporter": "python",
   "pygments_lexer": "ipython3",
   "version": "3.8.5"
  }
 },
 "nbformat": 4,
 "nbformat_minor": 5
}
