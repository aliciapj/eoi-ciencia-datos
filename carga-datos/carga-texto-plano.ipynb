{
 "cells": [
  {
   "cell_type": "markdown",
   "id": "wrong-coral",
   "metadata": {
    "slideshow": {
     "slide_type": "slide"
    }
   },
   "source": [
    "# Carga de datos - texto plano"
   ]
  },
  {
   "cell_type": "markdown",
   "id": "crucial-thinking",
   "metadata": {
    "slideshow": {
     "slide_type": "subslide"
    }
   },
   "source": [
    "## Motivación"
   ]
  },
  {
   "cell_type": "markdown",
   "id": "democratic-wilderness",
   "metadata": {
    "slideshow": {
     "slide_type": "slide"
    }
   },
   "source": [
    "## CSV"
   ]
  },
  {
   "cell_type": "markdown",
   "id": "focal-underground",
   "metadata": {
    "slideshow": {
     "slide_type": "subslide"
    }
   },
   "source": [
    "El tan llamado CSV (Valores Separados por Comas) es el formato más común de importación y exportación de hojas de cálculo y bases de datos. El formato CSV se utilizó durante muchos años antes de intentar describir el formato de manera estandarizada en RFC 4180. La falta de un estándar bien definido significa que a veces existen pequeñas diferencias en la información producida y consumida por diferentes aplicaciones. Estas diferencias pueden ser molestas al momento de procesar archivos CSV desde múltiples fuentes. Aún así, aunque los delimitadores y separadores varíen, el formato general es lo suficientemente similar como para que sea posible un sólo módulo que puede manipular tal información eficientemente, escondiendo los detalles de lectura y escritura de datos del programador."
   ]
  },
  {
   "cell_type": "markdown",
   "id": "known-particle",
   "metadata": {
    "slideshow": {
     "slide_type": "subslide"
    }
   },
   "source": [
    "El módulo csv implementa clases para leer y escribir datos tabulares en formato CSV. Permite a los programadores decir, «escribe estos datos en el formato preferido por Excel», o «lee datos de este archivo que fue generado por Excel», sin conocer los detalles precisos del formato CSV usado por Excel. Los programadores también pueden describir los formatos CSV entendidos por otras aplicaciones o definir sus propios formatos CSV para fines particulares."
   ]
  },
  {
   "cell_type": "markdown",
   "id": "mechanical-startup",
   "metadata": {
    "slideshow": {
     "slide_type": "subslide"
    }
   },
   "source": [
    "### Cómo leer un CSV"
   ]
  },
  {
   "cell_type": "code",
   "execution_count": 1,
   "id": "antique-cargo",
   "metadata": {
    "slideshow": {
     "slide_type": "-"
    }
   },
   "outputs": [
    {
     "name": "stdout",
     "output_type": "stream",
     "text": [
      "['id', 'first_name', 'last_name', 'email', 'gender', 'ip_address']\n",
      "['1', 'Brennan', 'Blesli', 'bblesli0@theatlantic.com', 'Non-binary', '94.202.160.87']\n",
      "['2', 'Abraham', 'Engel', 'aengel1@techcrunch.com', 'Agender', '106.178.90.215']\n",
      "['3', 'Skipp', 'Dawtrey', 'sdawtrey2@scientificamerican.com', 'Female', '96.142.23.72']\n",
      "['4', 'Cynde', 'Vivyan', 'cvivyan3@quantcast.com', 'Agender', '204.13.116.129']\n",
      "['5', 'Johnnie', 'Ragbourne', 'jragbourne4@yale.edu', 'Agender', '143.90.146.248']\n",
      "['6', 'Thorny', 'Conroy', 'tconroy5@examiner.com', 'Male', '86.203.62.141']\n",
      "['7', 'Franni', 'Perroni', 'fperroni6@nhs.uk', 'Genderqueer', '128.243.103.50']\n",
      "['8', 'Layla', 'Menco', 'lmenco7@bbb.org', 'Genderqueer', '66.106.194.116']\n",
      "['9', 'Zachary', 'Sleightholm', 'zsleightholm8@bloglovin.com', 'Male', '207.69.5.19']\n",
      "['10', 'Stephanie', 'Yankov', 'syankov9@theguardian.com', 'Non-binary', '169.163.50.147']\n"
     ]
    }
   ],
   "source": [
    "# Usando una lista de valores\n",
    "import csv\n",
    "\n",
    "with open('some.csv', newline='') as csv_file:\n",
    "    reader = csv.reader(csv_file)\n",
    "    for row in reader:\n",
    "        print(row)"
   ]
  },
  {
   "cell_type": "code",
   "execution_count": 3,
   "id": "established-disco",
   "metadata": {
    "slideshow": {
     "slide_type": "subslide"
    }
   },
   "outputs": [
    {
     "name": "stdout",
     "output_type": "stream",
     "text": [
      "{'id': '1', 'first_name': 'Brennan', 'last_name': 'Blesli', 'email': 'bblesli0@theatlantic.com', 'gender': 'Non-binary', 'ip_address': '94.202.160.87'}\n",
      "{'id': '2', 'first_name': 'Abraham', 'last_name': 'Engel', 'email': 'aengel1@techcrunch.com', 'gender': 'Agender', 'ip_address': '106.178.90.215'}\n",
      "{'id': '3', 'first_name': 'Skipp', 'last_name': 'Dawtrey', 'email': 'sdawtrey2@scientificamerican.com', 'gender': 'Female', 'ip_address': '96.142.23.72'}\n",
      "{'id': '4', 'first_name': 'Cynde', 'last_name': 'Vivyan', 'email': 'cvivyan3@quantcast.com', 'gender': 'Agender', 'ip_address': '204.13.116.129'}\n",
      "{'id': '5', 'first_name': 'Johnnie', 'last_name': 'Ragbourne', 'email': 'jragbourne4@yale.edu', 'gender': 'Agender', 'ip_address': '143.90.146.248'}\n",
      "{'id': '6', 'first_name': 'Thorny', 'last_name': 'Conroy', 'email': 'tconroy5@examiner.com', 'gender': 'Male', 'ip_address': '86.203.62.141'}\n",
      "{'id': '7', 'first_name': 'Franni', 'last_name': 'Perroni', 'email': 'fperroni6@nhs.uk', 'gender': 'Genderqueer', 'ip_address': '128.243.103.50'}\n",
      "{'id': '8', 'first_name': 'Layla', 'last_name': 'Menco', 'email': 'lmenco7@bbb.org', 'gender': 'Genderqueer', 'ip_address': '66.106.194.116'}\n",
      "{'id': '9', 'first_name': 'Zachary', 'last_name': 'Sleightholm', 'email': 'zsleightholm8@bloglovin.com', 'gender': 'Male', 'ip_address': '207.69.5.19'}\n",
      "{'id': '10', 'first_name': 'Stephanie', 'last_name': 'Yankov', 'email': 'syankov9@theguardian.com', 'gender': 'Non-binary', 'ip_address': '169.163.50.147'}\n"
     ]
    }
   ],
   "source": [
    "# Obteniendo un diccionario {nombre_campo: valor_campo}\n",
    "import csv\n",
    "\n",
    "with open('some.csv', mode='r') as csv_file: \n",
    "    csv_reader = csv.DictReader(csv_file)\n",
    "\n",
    "    for row in csv_reader:\n",
    "        print(row)"
   ]
  },
  {
   "cell_type": "markdown",
   "id": "imposed-aberdeen",
   "metadata": {
    "slideshow": {
     "slide_type": "subslide"
    }
   },
   "source": [
    "## Cómo escribir en un CSV"
   ]
  },
  {
   "cell_type": "code",
   "execution_count": 4,
   "id": "royal-latvia",
   "metadata": {
    "slideshow": {
     "slide_type": "-"
    }
   },
   "outputs": [],
   "source": [
    "# crea la carpeta .eoi_solutions si no existe para guardar los ficheros generados\n",
    "import os\n",
    "if not os.path.exists('.eoi_solutions'):\n",
    "    os.makedirs('.eoi_solutions')"
   ]
  },
  {
   "cell_type": "code",
   "execution_count": 5,
   "id": "ruled-albany",
   "metadata": {
    "slideshow": {
     "slide_type": "-"
    }
   },
   "outputs": [],
   "source": [
    "# Escribir a partir de una lista de valores\n",
    "import csv\n",
    "\n",
    "with open('.eoi_solutions/employee.csv', mode='w') as csv_file:\n",
    "    employee_writer = csv.writer(csv_file)\n",
    "\n",
    "    employee_writer.writerow(['John Smith', 'Accounting', 'November'])\n",
    "    employee_writer.writerow(['Erica Meyers', 'IT', 'March'])"
   ]
  },
  {
   "cell_type": "code",
   "execution_count": 6,
   "id": "understood-sally",
   "metadata": {
    "slideshow": {
     "slide_type": "subslide"
    }
   },
   "outputs": [],
   "source": [
    "# Escribir a partir de un diccionario {nombre_campo: valor_campo}\n",
    "import csv\n",
    "\n",
    "with open('.eoi_solutions/employee2.csv', mode='w') as csv_file:\n",
    "    fieldnames = ['emp_name', 'dept', 'birth_month']\n",
    "    writer = csv.DictWriter(csv_file, fieldnames=fieldnames)\n",
    "\n",
    "    writer.writeheader()\n",
    "    writer.writerow({'emp_name': 'John Smith', 'dept': 'Accounting', 'birth_month': 'November'})\n",
    "    writer.writerow({'birth_month': 'March', 'dept': 'IT', 'emp_name': 'Erica Meyers'})"
   ]
  },
  {
   "cell_type": "markdown",
   "id": "limiting-cursor",
   "metadata": {
    "slideshow": {
     "slide_type": "subslide"
    }
   },
   "source": [
    "### Recursos CSV\n",
    "- https://docs.python.org/es/3/library/csv.html\n",
    "- https://www.mockaroo.com/"
   ]
  },
  {
   "cell_type": "markdown",
   "id": "catholic-watts",
   "metadata": {
    "slideshow": {
     "slide_type": "subslide"
    }
   },
   "source": [
    "### Ejercicios CSV\n",
    "- "
   ]
  },
  {
   "cell_type": "markdown",
   "id": "developed-premium",
   "metadata": {
    "slideshow": {
     "slide_type": "slide"
    }
   },
   "source": [
    "## JSON"
   ]
  },
  {
   "cell_type": "markdown",
   "id": "proper-technology",
   "metadata": {
    "slideshow": {
     "slide_type": "subslide"
    }
   },
   "source": [
    "JSON (JavaScript Object Notation), especificado por :rfc:”7159” (que obsoleta RFC 4627) y por ECMA-404, es un formato ligero de intercambio de datos inspirado por la sintaxis literal de objetos en JavaScript (aunque no es un subconjunto estricto de JavaScript 1 ).\n",
    "\n",
    "json expone una API familiar a los usuarios de los módulos de la biblioteca estándar marshal y pickle."
   ]
  },
  {
   "cell_type": "markdown",
   "id": "creative-crossing",
   "metadata": {
    "slideshow": {
     "slide_type": "subslide"
    }
   },
   "source": [
    "### Cómo leer un fichero JSON"
   ]
  },
  {
   "cell_type": "code",
   "execution_count": 7,
   "id": "opposed-qualification",
   "metadata": {
    "slideshow": {
     "slide_type": "-"
    }
   },
   "outputs": [
    {
     "name": "stdout",
     "output_type": "stream",
     "text": [
      "[{'email': 'avignaux0@unc.edu',\n",
      "  'first_name': 'Anne',\n",
      "  'gender': 'Genderqueer',\n",
      "  'id': 1,\n",
      "  'ip_address': '63.46.253.42',\n",
      "  'last_name': 'Vignaux'},\n",
      " {'email': 'byepiskov1@fc2.com',\n",
      "  'first_name': 'Brittani',\n",
      "  'gender': 'Bigender',\n",
      "  'id': 2,\n",
      "  'ip_address': '149.228.251.148',\n",
      "  'last_name': 'Yepiskov'},\n",
      " {'email': 'midenden2@patch.com',\n",
      "  'first_name': 'Mirna',\n",
      "  'gender': 'Male',\n",
      "  'id': 3,\n",
      "  'ip_address': '56.78.154.172',\n",
      "  'last_name': 'Idenden'},\n",
      " {'email': 'ylicquorish3@freewebs.com',\n",
      "  'first_name': 'Yvor',\n",
      "  'gender': 'Female',\n",
      "  'id': 4,\n",
      "  'ip_address': '99.105.249.213',\n",
      "  'last_name': 'Licquorish'},\n",
      " {'email': 'scrannell4@marketwatch.com',\n",
      "  'first_name': 'Sayre',\n",
      "  'gender': 'Genderqueer',\n",
      "  'id': 5,\n",
      "  'ip_address': '115.126.112.163',\n",
      "  'last_name': 'Crannell'},\n",
      " {'email': 'jcollacombe5@springer.com',\n",
      "  'first_name': 'Jacquenetta',\n",
      "  'gender': 'Non-binary',\n",
      "  'id': 6,\n",
      "  'ip_address': '182.166.87.162',\n",
      "  'last_name': 'Collacombe'},\n",
      " {'email': 'mkrahl6@myspace.com',\n",
      "  'first_name': 'Miguel',\n",
      "  'gender': 'Agender',\n",
      "  'id': 7,\n",
      "  'ip_address': '214.33.215.37',\n",
      "  'last_name': 'Krahl'},\n",
      " {'email': 'chattiff7@feedburner.com',\n",
      "  'first_name': 'Clementia',\n",
      "  'gender': 'Genderfluid',\n",
      "  'id': 8,\n",
      "  'ip_address': '185.252.241.17',\n",
      "  'last_name': 'Hattiff'},\n",
      " {'email': 'aitzig8@who.int',\n",
      "  'first_name': 'Andrey',\n",
      "  'gender': 'Genderqueer',\n",
      "  'id': 9,\n",
      "  'ip_address': '163.129.161.151',\n",
      "  'last_name': 'Itzig'},\n",
      " {'email': 'jalexandrescu9@hugedomains.com',\n",
      "  'first_name': 'Junina',\n",
      "  'gender': 'Genderqueer',\n",
      "  'id': 10,\n",
      "  'ip_address': '47.64.172.154',\n",
      "  'last_name': 'Alexandrescu'}]\n"
     ]
    }
   ],
   "source": [
    "import json\n",
    "from pprint import pprint\n",
    "\n",
    "# read file\n",
    "with open('some.json', 'r') as json_file:\n",
    "    json_content = data = json.load(json_file)\n",
    "    pprint(json_content)\n"
   ]
  },
  {
   "cell_type": "markdown",
   "id": "angry-matter",
   "metadata": {
    "slideshow": {
     "slide_type": "subslide"
    }
   },
   "source": [
    "### Cómo escribir en un fichero JSON"
   ]
  },
  {
   "cell_type": "code",
   "execution_count": 8,
   "id": "enclosed-balance",
   "metadata": {
    "slideshow": {
     "slide_type": "-"
    }
   },
   "outputs": [],
   "source": [
    "import json\n",
    "\n",
    "json_content = [\n",
    "    {'emp_name': 'John Smith', 'dept': 'Accounting', 'birth_month': 'November'},\n",
    "    {'birth_month': 'March', 'dept': 'IT', 'emp_name': 'Erica Meyers'}\n",
    "]\n",
    "\n",
    "with open(\".eoi_solutions/employee.json\", \"w\") as write_file:\n",
    "    json.dump(json_content, write_file)"
   ]
  },
  {
   "cell_type": "markdown",
   "id": "mighty-wallet",
   "metadata": {
    "slideshow": {
     "slide_type": "subslide"
    }
   },
   "source": [
    "### Recursos JSON\n",
    "- https://docs.python.org/es/3/library/json.html\n",
    "- https://realpython.com/python-json/"
   ]
  },
  {
   "cell_type": "markdown",
   "id": "resistant-language",
   "metadata": {
    "slideshow": {
     "slide_type": "subslide"
    }
   },
   "source": [
    "### Ejercicios JSON\n",
    "- "
   ]
  },
  {
   "cell_type": "markdown",
   "id": "differential-sandwich",
   "metadata": {
    "slideshow": {
     "slide_type": "slide"
    }
   },
   "source": [
    "## XML"
   ]
  },
  {
   "cell_type": "markdown",
   "id": "flying-salad",
   "metadata": {
    "slideshow": {
     "slide_type": "subslide"
    }
   },
   "source": [
    "Las interfaces de Python para procesar XML están agrupadas en el paquete xml.\n",
    "\n",
    "Es importante tener en cuenta que los módulos del paquete xml requieren que haya al menos un analizador XML compatible con SAX disponible. El analizador Expat se incluye con Python, por lo que el módulo xml.parsers.expat siempre estará disponible.\n",
    "\n",
    "La documentación de los paquetes xml.dom y xml.sax es la definición de los enlaces de Python para las interfaces DOM y SAX."
   ]
  },
  {
   "cell_type": "markdown",
   "id": "dutch-school",
   "metadata": {
    "slideshow": {
     "slide_type": "subslide"
    }
   },
   "source": [
    "Los submódulos de manejo de XML son:\n",
    "\n",
    "- `xml.etree.ElementTree`: la API ElementTree, un procesador de XML simple y ligero\n",
    "- `xml.dom`: la definición de la API DOM\n",
    "- `xml.dom.minidom`: una implementación mínima de DOM\n",
    "- `xml.dom.pulldom`: soporte para la construcción de árboles DOM parciales\n",
    "- `xml.sax`: clases base SAX2 y funciones de conveniencia\n",
    "- `xml.parsers.expat`: el enlace del analizador Expat"
   ]
  },
  {
   "cell_type": "markdown",
   "id": "outer-cardiff",
   "metadata": {
    "slideshow": {
     "slide_type": "subslide"
    }
   },
   "source": [
    "### Cómo leer un XML"
   ]
  },
  {
   "cell_type": "code",
   "execution_count": 9,
   "id": "mounted-memory",
   "metadata": {
    "slideshow": {
     "slide_type": "-"
    }
   },
   "outputs": [
    {
     "name": "stdout",
     "output_type": "stream",
     "text": [
      "data {}\n",
      "country {'name': 'Liechtenstein'}\n",
      "country {'name': 'Singapore'}\n",
      "country {'name': 'Panama'}\n"
     ]
    }
   ],
   "source": [
    "import xml.etree.ElementTree as ET\n",
    "\n",
    "tree = ET.parse('some.xml')\n",
    "root = tree.getroot()\n",
    "print(root.tag, root.attrib)\n",
    "\n",
    "for child in root:\n",
    "    print(child.tag, child.attrib)"
   ]
  },
  {
   "cell_type": "code",
   "execution_count": 10,
   "id": "underlying-bankruptcy",
   "metadata": {
    "slideshow": {
     "slide_type": "subslide"
    }
   },
   "outputs": [
    {
     "name": "stdout",
     "output_type": "stream",
     "text": [
      "{'name': 'Austria', 'direction': 'E'}\n",
      "{'name': 'Switzerland', 'direction': 'W'}\n",
      "{'name': 'Malaysia', 'direction': 'N'}\n",
      "{'name': 'Costa Rica', 'direction': 'W'}\n",
      "{'name': 'Colombia', 'direction': 'E'}\n"
     ]
    }
   ],
   "source": [
    "for neighbor in root.iter('neighbor'):\n",
    "    print(neighbor.attrib)"
   ]
  },
  {
   "cell_type": "code",
   "execution_count": 11,
   "id": "aquatic-participant",
   "metadata": {
    "slideshow": {
     "slide_type": "-"
    }
   },
   "outputs": [
    {
     "name": "stdout",
     "output_type": "stream",
     "text": [
      "Liechtenstein 1\n",
      "Singapore 4\n",
      "Panama 68\n"
     ]
    }
   ],
   "source": [
    "for country in root.findall('country'):\n",
    "    rank = country.find('rank').text\n",
    "    name = country.get('name')\n",
    "    print(name, rank)"
   ]
  },
  {
   "cell_type": "markdown",
   "id": "selected-taylor",
   "metadata": {
    "slideshow": {
     "slide_type": "subslide"
    }
   },
   "source": [
    "### Cómo escribir en un XML"
   ]
  },
  {
   "cell_type": "code",
   "execution_count": 12,
   "id": "prompt-clock",
   "metadata": {
    "slideshow": {
     "slide_type": "-"
    }
   },
   "outputs": [],
   "source": [
    "from xml.etree.ElementTree import Element, tostring\n",
    "  \n",
    "dict_content = [\n",
    "    {'emp_name': 'John Smith', 'dept': 'Accounting', 'birth_month': 'November'},\n",
    "    {'birth_month': 'March', 'dept': 'IT', 'emp_name': 'Erica Meyers'}\n",
    "]\n",
    "\n",
    "xml_content = ''\n",
    "\n",
    "for row in dict_content:\n",
    "    elem = Element('employee')\n",
    "    \n",
    "    for key, val in row.items():\n",
    "        child = Element(key)\n",
    "        child.text = str(val)\n",
    "        elem.append(child)\n",
    "    \n",
    "    xml_content += str(tostring(elem).decode(\"utf-8\"))\n",
    "\n",
    "with open(\".eoi_solutions/employee.xml\", \"w\") as xml_file:\n",
    "    xml_file.write(f'<?xml version=\"1.0\"?><data>{xml_content}</data>')"
   ]
  },
  {
   "cell_type": "markdown",
   "id": "native-insulin",
   "metadata": {
    "slideshow": {
     "slide_type": "subslide"
    }
   },
   "source": [
    "### LXML\n",
    "- La librería lxml es una librería de Python que hace de enlace de las librerías de C [libxml2](http://xmlsoft.org/) y [libxslt](http://xmlsoft.org/XSLT/). \n",
    "- Es único en el sentido de que combina la velocidad y la integridad de las funciones XML de estas bibliotecas con la simplicidad de una API nativa de Python, en su mayoría compatible pero superior a la conocida API ElementTree. "
   ]
  },
  {
   "cell_type": "markdown",
   "id": "satellite-huntington",
   "metadata": {
    "slideshow": {
     "slide_type": "subslide"
    }
   },
   "source": [
    "### Instalación"
   ]
  },
  {
   "cell_type": "code",
   "execution_count": 13,
   "id": "directed-appointment",
   "metadata": {
    "scrolled": true,
    "slideshow": {
     "slide_type": "-"
    }
   },
   "outputs": [
    {
     "name": "stdout",
     "output_type": "stream",
     "text": [
      "Requirement already satisfied: lxml in /home/alicia/workspace/eoi/eoi-ciencia-datos/.venv/lib/python3.8/site-packages (4.6.3)\r\n"
     ]
    }
   ],
   "source": [
    "! pip install lxml"
   ]
  },
  {
   "cell_type": "markdown",
   "id": "joined-chemical",
   "metadata": {
    "slideshow": {
     "slide_type": "subslide"
    }
   },
   "source": [
    "### Cómo leer un XML con LXML"
   ]
  },
  {
   "cell_type": "code",
   "execution_count": 14,
   "id": "random-federation",
   "metadata": {
    "slideshow": {
     "slide_type": "-"
    }
   },
   "outputs": [
    {
     "data": {
      "text/plain": [
       "b'<data>\\n    <country name=\"Liechtenstein\">\\n        <rank>1</rank>\\n        <year>2008</year>\\n        <gdppc>141100</gdppc>\\n        <neighbor name=\"Austria\" direction=\"E\"/>\\n        <neighbor name=\"Switzerland\" direction=\"W\"/>\\n    </country>\\n    <country name=\"Singapore\">\\n        <rank>4</rank>\\n        <year>2011</year>\\n        <gdppc>59900</gdppc>\\n        <neighbor name=\"Malaysia\" direction=\"N\"/>\\n    </country>\\n    <country name=\"Panama\">\\n        <rank>68</rank>\\n        <year>2011</year>\\n        <gdppc>13600</gdppc>\\n        <neighbor name=\"Costa Rica\" direction=\"W\"/>\\n        <neighbor name=\"Colombia\" direction=\"E\"/>\\n    </country>\\n</data>'"
      ]
     },
     "execution_count": 14,
     "metadata": {},
     "output_type": "execute_result"
    }
   ],
   "source": [
    "from lxml import etree\n",
    "\n",
    "tree = etree.parse(\"some.xml\")\n",
    "etree.tostring(tree.getroot())"
   ]
  },
  {
   "cell_type": "markdown",
   "id": "plastic-olympus",
   "metadata": {
    "slideshow": {
     "slide_type": "subslide"
    }
   },
   "source": [
    "### Recursos XML\n",
    "- https://docs.python.org/es/3/library/xml.html\n",
    "- https://lxml.de"
   ]
  },
  {
   "cell_type": "markdown",
   "id": "amateur-renaissance",
   "metadata": {
    "slideshow": {
     "slide_type": "subslide"
    }
   },
   "source": [
    "### Ejercicios XML\n",
    "- "
   ]
  }
 ],
 "metadata": {
  "celltoolbar": "Slideshow",
  "kernelspec": {
   "display_name": "Python 3",
   "language": "python",
   "name": "python3"
  },
  "language_info": {
   "codemirror_mode": {
    "name": "ipython",
    "version": 3
   },
   "file_extension": ".py",
   "mimetype": "text/x-python",
   "name": "python",
   "nbconvert_exporter": "python",
   "pygments_lexer": "ipython3",
   "version": "3.8.5"
  }
 },
 "nbformat": 4,
 "nbformat_minor": 5
}
