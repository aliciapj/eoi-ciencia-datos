{
 "cells": [
  {
   "cell_type": "markdown",
   "metadata": {
    "slideshow": {
     "slide_type": "slide"
    }
   },
   "source": [
    "# Análisis exploratorio"
   ]
  },
  {
   "cell_type": "markdown",
   "metadata": {
    "slideshow": {
     "slide_type": "fragment"
    }
   },
   "source": [
    "- **Librerías importantes**\n",
    "- Tipos de datos\n",
    "- Medidas de tendencia central\n",
    "- Medidas de simetría y curtosis\n",
    "- Distribución de los datos\n",
    "- Medidas de posición no central\n",
    "- Medidas de dispersión\n",
    "- Miniproyecto"
   ]
  },
  {
   "cell_type": "markdown",
   "metadata": {
    "slideshow": {
     "slide_type": "slide"
    }
   },
   "source": [
    "# Librerías importantes\n",
    "- Numpy\n",
    "- Pandas\n",
    "- Scipy\n",
    "- Matplot Lib\n",
    "- Seaborn"
   ]
  },
  {
   "cell_type": "markdown",
   "metadata": {
    "slideshow": {
     "slide_type": "subslide"
    }
   },
   "source": [
    "# Librerías importantes\n",
    "- **Numpy**:  \n",
    "Extensión de Python, que le agrega mayor soporte para vectores y matrices, constituyendo una biblioteca de funciones matemáticas de alto nivel para operar con esos vectores o matrices.  \n",
    "    * [Cheatsheet de datacamp](https://www.datacamp.com/community/blog/python-numpy-cheat-sheet)\n",
    "    * [Tutorial](_numpy.ipynb)\n",
    "    * [Ejercicios](ejercicios/numpy_ejercicios.ipynb)\n",
    "\n",
    "\n",
    "- Pandas\n",
    "- Scipy\n",
    "- Matplot Lib\n",
    "- Seaborn"
   ]
  },
  {
   "cell_type": "markdown",
   "metadata": {
    "slideshow": {
     "slide_type": "subslide"
    }
   },
   "source": [
    "# Librerías importantes\n",
    "- Numpy\n",
    "\n",
    "\n",
    "- **Pandas**  \n",
    "Extensión de NumPy para manipulación y análisis de datos para el lenguaje de programación Python. En particular, ofrece estructuras de datos y operaciones para manipular tablas numéricas y series temporales.\n",
    "    * [Cheatsheet de datacamp](https://www.datacamp.com/community/blog/python-pandas-cheat-sheet)\n",
    "    * [Tutorial](_pandas.ipynb)\n",
    "    * [Ejercicios](ejercicios/pandas_ejercicios.ipynb)\n",
    "\n",
    "\n",
    "- Scipy\n",
    "- Matplot Lib\n",
    "- Seaborn"
   ]
  },
  {
   "cell_type": "markdown",
   "metadata": {
    "slideshow": {
     "slide_type": "subslide"
    }
   },
   "source": [
    "# Librerías importantes\n",
    "- Numpy\n",
    "- Pandas\n",
    "\n",
    "\n",
    "- **Scipy**  \n",
    "Biblioteca open source de herramientas y algoritmos matemáticos para Python que nació a partir de la colección original de Travis Oliphant que consistía de módulos de extensión para Python, lanzada en 1999 bajo el nombre de Multipack\n",
    "    * [Cheatsheet de datacamp](https://www.datacamp.com/community/blog/python-scipy-cheat-sheet)\n",
    "\n",
    "\n",
    "- Matplot Lib\n",
    "- Seaborn"
   ]
  },
  {
   "cell_type": "markdown",
   "metadata": {
    "slideshow": {
     "slide_type": "subslide"
    }
   },
   "source": [
    "# Librerías importantes\n",
    "- Numpy\n",
    "- Pandas\n",
    "- Scipy\n",
    "\n",
    "\n",
    "- **Matplot Lib**  \n",
    "Biblioteca para la generación de gráficos a partir de datos contenidos en listas o arrays en el lenguaje de programación Python y su extensión matemática NumPy. Proporciona una API, pylab, diseñada para recordar a la de MATLAB.\n",
    "    * [Cheatsheet de datacamp](https://www.datacamp.com/community/blog/python-matplotlib-cheat-sheet)\n",
    "    * [Tutorial](_matplotlib.ipynb)\n",
    "    * [Ejercicios](ejercicios/matplotlib.ipynb)\n",
    "\n",
    "\n",
    "- Seaborn"
   ]
  },
  {
   "cell_type": "markdown",
   "metadata": {
    "slideshow": {
     "slide_type": "subslide"
    }
   },
   "source": [
    "# Librerías importantes\n",
    "- Numpy\n",
    "- Pandas\n",
    "- Scipy\n",
    "- Matplot Lib\n",
    "\n",
    "\n",
    "- **Seaborn**  \n",
    "Seaborn es una librería de visualización de datos en Python basada en matplotlib.   \n",
    "La idea de Seaborn es que los data scientists dispongan de una interfaz para hacer gráficos estadísticos atractivos e explicativos: el objetivo es visualizar datos complejos de forma sencilla y extraer conclusiones.\n",
    "    * [Cheatsheet de datacamp](https://www.datacamp.com/community/blog/seaborn-cheat-sheet-python)\n",
    "    * [Tutorial](_seaborn.ipynb)\n",
    "    * [Ejercicios](ejercicios/seaborn_ejercicios.ipynb)"
   ]
  },
  {
   "cell_type": "markdown",
   "metadata": {
    "slideshow": {
     "slide_type": "subslide"
    }
   },
   "source": [
    "### Extra! Recomendaciones sobre buenas visualizaciones\n",
    "[The python graph gallery](https://python-graph-gallery.com/)"
   ]
  },
  {
   "cell_type": "markdown",
   "metadata": {
    "slideshow": {
     "slide_type": "slide"
    }
   },
   "source": [
    "## Análisis descriptivo\n",
    "- Librerías importantes\n",
    "- ***Tipos de datos***\n",
    "- Medidas de tendencia central\n",
    "- Medidas de simetría y curtosis\n",
    "- Distribución de los datos\n",
    "- Medidas de posición no central\n",
    "- Medidas de dispersión"
   ]
  },
  {
   "cell_type": "markdown",
   "metadata": {
    "slideshow": {
     "slide_type": "subslide"
    }
   },
   "source": [
    "#### Variables cuantitativas\n",
    "\n",
    "Se expresan mediante números y permite realizar operaciones aritméticas.\n",
    "\n",
    "- Variables discretas: Toma valores aislados\n",
    "    - `Edad: 2, 5, 7, 12, 15, 26, 45, 47, 50, 54, 65, 73`\n",
    "\n",
    "- Variables continuas: Valores comprendidos entre dos números\n",
    "    - `Altura: 1.25, 1.27, 1.29, 1.54, 1.67, 1.71, 1.75`"
   ]
  },
  {
   "cell_type": "markdown",
   "metadata": {
    "slideshow": {
     "slide_type": "subslide"
    }
   },
   "source": [
    "#### Variables cualitativas\n",
    "\n",
    "Características que no pueden ser medidas con números\n",
    "\n",
    "- Variable cualitativa nominal: Característica que no puede ser\n",
    "medida con números y no tienen orden\n",
    "    - `Sexo: hombre, mujer`\n",
    "\n",
    "- Variable cualitativa ordinal o cuasi-cuantitativa: Características o cualidades en las que existe un orden\n",
    "    - `Nivel: bajo, medio, alto`"
   ]
  },
  {
   "cell_type": "markdown",
   "metadata": {
    "slideshow": {
     "slide_type": "slide"
    }
   },
   "source": [
    "## Análisis descriptivo\n",
    "- Librerías importantes\n",
    "- Tipos de datos\n",
    "- ***Medidas de tendencia central***\n",
    "- Medidas de simetría y curtosis\n",
    "- Distribución de los datos\n",
    "- Medidas de posición no central\n",
    "- Medidas de dispersión\n",
    "- Miniproyecto"
   ]
  },
  {
   "cell_type": "markdown",
   "metadata": {
    "slideshow": {
     "slide_type": "subslide"
    }
   },
   "source": [
    "### Medidas de tendencia central\n",
    "\n",
    "Un conjunto N de observaciones puede que por sí solo no nos diga nada. En cambio, si se conoce que están situados alrededor de uno o varios valores centrales ya tenemos una referencia que sintetiza la información\n",
    "\n",
    "- Media\n",
    "- Mediana\n",
    "- Moda"
   ]
  },
  {
   "cell_type": "markdown",
   "metadata": {
    "slideshow": {
     "slide_type": "subslide"
    }
   },
   "source": [
    "__Media aritmética__\n",
    "  - La media no tiene porqué ser un valor propio de la variable\n",
    "  - Es muy sensible a valores extremos \n",
    "  - Se comporta de forma natural en relación a las operaciones aritméticas\n",
    "  \n",
    "__Media ponderada__\n",
    "  - Es la media aritmética que se utiliza cuando a cada valor de la variable (xi) se le otorga una ponderación o peso distinto de la frecuencia o repetición."
   ]
  },
  {
   "cell_type": "code",
   "execution_count": 61,
   "metadata": {
    "slideshow": {
     "slide_type": "subslide"
    }
   },
   "outputs": [
    {
     "data": {
      "image/png": "[encoded data removed]",
      "text/plain": [
       "<Figure size 432x288 with 1 Axes>"
      ]
     },
     "metadata": {
      "needs_background": "light"
     },
     "output_type": "display_data"
    },
    {
     "name": "stdout",
     "output_type": "stream",
     "text": [
      "Media sin outliers 27295.901151184433\n",
      "Media con outliers 127283.17283390104\n"
     ]
    }
   ],
   "source": [
    "import numpy as np\n",
    "import matplotlib.pyplot as plt\n",
    "\n",
    "incomes = np.random.normal(27000, 15000, 10000)\n",
    "plt.hist(incomes, 50)\n",
    "plt.show()\n",
    "\n",
    "np.mean(incomes)\n",
    "\n",
    "print(f'Media sin outliers {np.mean(incomes)}')\n",
    "\n",
    "## Ahora introducimos un outlier:\n",
    "incomes = np.append(incomes, [1000000000])\n",
    "\n",
    "print(f'Media con outliers {np.mean(incomes)}')"
   ]
  },
  {
   "cell_type": "markdown",
   "metadata": {
    "slideshow": {
     "slide_type": "subslide"
    }
   },
   "source": [
    "__Moda__\n",
    "  - Valor de la variable estadística con mayor frecuencia absoluta.\n",
    "  - No se ve afectada por los valores extremos.\n",
    "  - Se suele utilizar como complemento a la media y la mediana ya que por sí sola no aporta una información determinante de la distribución\n",
    "  - Si la variable está medida por intervalos puede haber más de una moda, en ese caso se denomina distribución plurimodal\n"
   ]
  },
  {
   "cell_type": "code",
   "execution_count": 62,
   "metadata": {
    "slideshow": {
     "slide_type": "subslide"
    }
   },
   "outputs": [
    {
     "data": {
      "text/plain": [
       "array([45, 54, 26, 22, 59, 82, 24, 73, 83, 32])"
      ]
     },
     "execution_count": 62,
     "metadata": {},
     "output_type": "execute_result"
    }
   ],
   "source": [
    "# Generamos datos de edades random para 500 personas:\n",
    "ages = np.random.randint(18, high=90, size=500)\n",
    "ages[:10]"
   ]
  },
  {
   "cell_type": "code",
   "execution_count": 63,
   "metadata": {
    "slideshow": {
     "slide_type": "subslide"
    }
   },
   "outputs": [
    {
     "data": {
      "text/plain": [
       "ModeResult(mode=array([32]), count=array([13]))"
      ]
     },
     "execution_count": 63,
     "metadata": {},
     "output_type": "execute_result"
    }
   ],
   "source": [
    "from scipy import stats\n",
    "stats.mode(ages)"
   ]
  },
  {
   "cell_type": "markdown",
   "metadata": {
    "slideshow": {
     "slide_type": "slide"
    }
   },
   "source": [
    "## Análisis descriptivo\n",
    "- Librerías importantes\n",
    "- Tipos de datos\n",
    "- Medidas de tendencia central\n",
    "- ***Medidas de simetría y curtosis***\n",
    "- Distribución de los datos\n",
    "- Medidas de posición no central\n",
    "- Medidas de dispersión\n",
    "- Miniproyecto"
   ]
  },
  {
   "cell_type": "markdown",
   "metadata": {
    "slideshow": {
     "slide_type": "subslide"
    }
   },
   "source": [
    "### Medidas de simetría\n",
    "\n",
    "Las medidas de asimetría son indicadores que permiten establecer el grado de simetría (o asimetría) que presenta una distribución de probabilidad de una variable aleatoria sin tener que hacer su representación gráfica. \n",
    "- **Asimetría positiva:**\n",
    "    - Ejemplos: puntuaciones de un examen difícil, salarios...\n",
    "- **Asimetría negativa:**\n",
    "    - Ejemplos: puntuaciones de un exámen fácil\n",
    "    \n",
    "![image.png](attachment:image.png)\n",
    "\n",
    "[Ref](https://es.wikipedia.org/wiki/Asimetr%C3%ADa_estad%C3%ADstica)"
   ]
  },
  {
   "cell_type": "markdown",
   "metadata": {
    "slideshow": {
     "slide_type": "subslide"
    }
   },
   "source": [
    "### Curtosis y apuntamiento\n",
    "\n",
    "La medida de curtosis o apuntamiento determina el grado de concetración que presentan los valores en la región central de la distribución y en relación a la distribución normal\n",
    "\n",
    "![image.png](attachment:image.png)\n",
    "[Ref](https://www.monografias.com/trabajos87/medidas-forma-asimetria-curtosis/medidas-forma-asimetria-curtosis.shtml)"
   ]
  },
  {
   "cell_type": "code",
   "execution_count": 65,
   "metadata": {
    "slideshow": {
     "slide_type": "subslide"
    }
   },
   "outputs": [
    {
     "data": {
      "image/png": "[encoded data removed]",
      "text/plain": [
       "<Figure size 432x288 with 1 Axes>"
      ]
     },
     "metadata": {
      "needs_background": "light"
     },
     "output_type": "display_data"
    },
    {
     "name": "stdout",
     "output_type": "stream",
     "text": [
      "Skew:     -0.013635859916955706\n",
      "Kurtosis: -0.0007947497432887474\n"
     ]
    }
   ],
   "source": [
    "import numpy as np\n",
    "import matplotlib.pyplot as plt\n",
    "from scipy.stats import skew, kurtosis\n",
    "\n",
    "vals = np.random.normal(0, 1, 10000)\n",
    "\n",
    "plt.hist(vals, 50)\n",
    "plt.show()\n",
    "\n",
    "# A skewness value > 0 means that there is more weight in the left tail of the distribution\n",
    "print(f'Skew:     {skew(vals)}') \n",
    "print(f'Kurtosis: {kurtosis(vals)}') "
   ]
  },
  {
   "cell_type": "code",
   "execution_count": 66,
   "metadata": {
    "slideshow": {
     "slide_type": "subslide"
    }
   },
   "outputs": [
    {
     "data": {
      "image/png": "[encoded data removed]",
      "text/plain": [
       "<Figure size 432x288 with 1 Axes>"
      ]
     },
     "metadata": {
      "needs_background": "light"
     },
     "output_type": "display_data"
    },
    {
     "name": "stdout",
     "output_type": "stream",
     "text": [
      "Skew:     0.6293860200453795\n",
      "Kurtosis: 0.5687218628967714\n"
     ]
    }
   ],
   "source": [
    "from scipy.stats import gamma\n",
    "# https://docs.scipy.org/doc/scipy-0.13.0/reference/generated/scipy.stats.skew.html\n",
    "data_gamma = gamma.rvs(a=10, size=10000)\n",
    "plt.hist(data_gamma, 50)\n",
    "plt.show()\n",
    "\n",
    "print(f'Skew:     {skew(data_gamma)}') \n",
    "print(f'Kurtosis: {kurtosis(data_gamma)}') "
   ]
  },
  {
   "cell_type": "markdown",
   "metadata": {
    "slideshow": {
     "slide_type": "slide"
    }
   },
   "source": [
    "## Análisis descriptivo\n",
    "- Tipos de datos\n",
    "- Medidas de tendencia central\n",
    "- Medidas de simetría y curtosis\n",
    "- ***Distribución de los datos***\n",
    "- Medidas de posición no central\n",
    "- Medidas de dispersión\n",
    "- Miniproyecto"
   ]
  },
  {
   "cell_type": "markdown",
   "metadata": {
    "slideshow": {
     "slide_type": "subslide"
    }
   },
   "source": [
    "### Distribución de probabilidad\n",
    "\n",
    "- Una distribución de probabilidad permite conocer el comportamiento de la variable, describir y entender cómo varían los valores de la característica estudiada en los individuos.\n",
    "- Proporciona información sobre los valores que puede tomar una variable en los individuos observados y la frecuencia con que ocurren."
   ]
  },
  {
   "cell_type": "markdown",
   "metadata": {
    "slideshow": {
     "slide_type": "subslide"
    }
   },
   "source": [
    "__Distribución normal o Gaussiana__\n",
    "- Asociada a fenómenos naturales:\n",
    "  - caracteres morfológicos de una especie (talle, peso, distancia...)\n",
    "  - caracteres fisiológicos (efecto de un fármaco...)\n",
    "  - caracteres sociológicos (notas de un exámen...)"
   ]
  },
  {
   "cell_type": "code",
   "execution_count": 67,
   "metadata": {
    "slideshow": {
     "slide_type": "subslide"
    }
   },
   "outputs": [
    {
     "data": {
      "text/plain": [
       "[<matplotlib.lines.Line2D at 0x2617482b220>]"
      ]
     },
     "execution_count": 67,
     "metadata": {},
     "output_type": "execute_result"
    },
    {
     "data": {
      "image/png": "[encoded data removed]",
      "text/plain": [
       "<Figure size 432x288 with 1 Axes>"
      ]
     },
     "metadata": {
      "needs_background": "light"
     },
     "output_type": "display_data"
    }
   ],
   "source": [
    "from scipy.stats import norm\n",
    "import matplotlib.pyplot as plt\n",
    "\n",
    "x = np.arange(-3, 3, 0.001)\n",
    "plt.plot(x, norm.pdf(x))\n"
   ]
  },
  {
   "cell_type": "code",
   "execution_count": 68,
   "metadata": {
    "slideshow": {
     "slide_type": "subslide"
    }
   },
   "outputs": [
    {
     "data": {
      "image/png": "[encoded data removed]",
      "text/plain": [
       "<Figure size 432x288 with 1 Axes>"
      ]
     },
     "metadata": {
      "needs_background": "light"
     },
     "output_type": "display_data"
    }
   ],
   "source": [
    "import numpy as np\n",
    "import matplotlib.pyplot as plt\n",
    "\n",
    "mu = 5.0\n",
    "sigma = 2.0\n",
    "values = np.random.normal(mu, sigma, 10000)\n",
    "plt.hist(values, 50)\n",
    "plt.show()"
   ]
  },
  {
   "cell_type": "markdown",
   "metadata": {
    "slideshow": {
     "slide_type": "slide"
    }
   },
   "source": [
    "## Análisis descriptivo\n",
    "- Librerías importantes\n",
    "- Tipos de datos\n",
    "- Medidas de tendencia central\n",
    "- Medidas de simetría y curtosis\n",
    "- Distribución de los datos\n",
    "- ***Medidas de posición no central***\n",
    "- Medidas de dispersión\n",
    "- Miniproyecto"
   ]
  },
  {
   "cell_type": "markdown",
   "metadata": {
    "slideshow": {
     "slide_type": "subslide"
    }
   },
   "source": [
    "### Medidas de posición no central\n",
    "Ayudan a localizar el valor de la variable que acumula cierto porcentaje específico de\n",
    "datos.\n",
    "\n",
    "Estas medidas dividen a la población en partes iguales y sirven para clasificar a un\n",
    "individuo dentro de una determinada muestra o población (mismo concepto que la\n",
    "mediana)."
   ]
  },
  {
   "cell_type": "markdown",
   "metadata": {
    "slideshow": {
     "slide_type": "subslide"
    }
   },
   "source": [
    "- __Cuartiles (Q)__\n",
    "    - Encuentran el valor acumulado al 25%, 50% y 75%, respectivamente.\n",
    "    - Medida de localización que divide a la población en cuatro partes iguales (Q1, Q2 y Q3).\n",
    "\n",
    "\n",
    "- __Deciles (D)__\n",
    "    - Representan el 10%, 20%, ... , 90% de los datos acumulados respectivamente.\n",
    "    - Medida de localización que divide a la población en diez partes iguales\n",
    "    - dk = Decil k-simo es aquel valor de la variable que deja a su izquierda el k·10 % de la distribución.\n",
    "\n",
    "\n",
    "- __Percentiles (P)__\n",
    "    - Representan el 1%, 2%, ... , 99% de los datos acumulados respectivamente\n",
    "    - Medida de localización que divide a la población en cien partes iguales.\n",
    "    - Pk = Percentil k-ésimo es aquel valor que deja a su izquierda el K*1% de la distribución."
   ]
  },
  {
   "cell_type": "code",
   "execution_count": 70,
   "metadata": {
    "slideshow": {
     "slide_type": "subslide"
    }
   },
   "outputs": [
    {
     "data": {
      "image/png": "[encoded data removed]",
      "text/plain": [
       "<Figure size 432x288 with 1 Axes>"
      ]
     },
     "metadata": {
      "needs_background": "light"
     },
     "output_type": "display_data"
    }
   ],
   "source": [
    "import numpy as np\n",
    "import matplotlib.pyplot as plt\n",
    "\n",
    "vals = np.random.normal(0, 0.5, 10000)\n",
    "\n",
    "plt.hist(vals, 50)\n",
    "plt.show()"
   ]
  },
  {
   "cell_type": "code",
   "execution_count": 71,
   "metadata": {
    "slideshow": {
     "slide_type": "subslide"
    }
   },
   "outputs": [
    {
     "data": {
      "text/plain": [
       "-0.0006880741781360336"
      ]
     },
     "execution_count": 71,
     "metadata": {},
     "output_type": "execute_result"
    }
   ],
   "source": [
    "np.percentile(vals, 50)"
   ]
  },
  {
   "cell_type": "code",
   "execution_count": 72,
   "metadata": {
    "slideshow": {
     "slide_type": "subslide"
    }
   },
   "outputs": [
    {
     "data": {
      "text/plain": [
       "0.638154645510447"
      ]
     },
     "execution_count": 72,
     "metadata": {},
     "output_type": "execute_result"
    }
   ],
   "source": [
    "np.percentile(vals, 90)"
   ]
  },
  {
   "cell_type": "code",
   "execution_count": 73,
   "metadata": {
    "slideshow": {
     "slide_type": "subslide"
    }
   },
   "outputs": [
    {
     "data": {
      "text/plain": [
       "-0.42275045499263936"
      ]
     },
     "execution_count": 73,
     "metadata": {},
     "output_type": "execute_result"
    }
   ],
   "source": [
    "np.percentile(vals, 20)"
   ]
  },
  {
   "cell_type": "markdown",
   "metadata": {
    "slideshow": {
     "slide_type": "slide"
    }
   },
   "source": [
    "## Análisis descriptivo\n",
    "- Librerías importantes\n",
    "- Tipos de datos\n",
    "- Medidas de tendencia central\n",
    "- Medidas de simetría y curtosis\n",
    "- Distribución de los datos\n",
    "- Medidas de posición no central\n",
    "- ***Medidas de dispersión***\n",
    "- Miniproyecto"
   ]
  },
  {
   "cell_type": "markdown",
   "metadata": {
    "slideshow": {
     "slide_type": "subslide"
    }
   },
   "source": [
    "### Medidas de dispersión\n",
    "- Varianza\n",
    "- Desviación típica"
   ]
  },
  {
   "cell_type": "markdown",
   "metadata": {
    "slideshow": {
     "slide_type": "subslide"
    }
   },
   "source": [
    "### Varianza\n",
    "- Es la media aritmética de los cuadrados de las diferencias de las observaciones con la media\n",
    "- Al igual que la media en caso de que la variable se presente en intervalos se tomará la marca de clase como valor xi .\n",
    "- No sirve para comparar variables de diferentes medidas, por ello es más frecuente hacer uso de la desviación típica."
   ]
  },
  {
   "cell_type": "markdown",
   "metadata": {
    "slideshow": {
     "slide_type": "subslide"
    }
   },
   "source": [
    "### Desviación típica\n",
    "\n",
    "- Es la raíz cuadrada positiva de la varianza\n",
    "- Es la mejor medida de dispersión y la más utilizada\n",
    "- Si la distribución de frecuencias se aproxima a una normal se verifica:\n",
    "    - El 68% de los valores de la variable están comprendidos entre ± σ\n",
    "    - El 95% de los valores de la variable están comprendidos entre ± 2 σ\n",
    "    - El 99% de los valores de la variable están comprendidos entre ± 3 σ"
   ]
  },
  {
   "cell_type": "code",
   "execution_count": 76,
   "metadata": {
    "slideshow": {
     "slide_type": "subslide"
    }
   },
   "outputs": [
    {
     "data": {
      "image/png": "[encoded data removed]",
      "text/plain": [
       "<Figure size 432x288 with 1 Axes>"
      ]
     },
     "metadata": {
      "needs_background": "light"
     },
     "output_type": "display_data"
    }
   ],
   "source": [
    "import numpy as np\n",
    "import matplotlib.pyplot as plt\n",
    "\n",
    "incomes = np.random.normal(100.0, 50.0, 10000)\n",
    "\n",
    "plt.hist(incomes, 50)\n",
    "plt.show()"
   ]
  },
  {
   "cell_type": "code",
   "execution_count": 77,
   "metadata": {
    "slideshow": {
     "slide_type": "subslide"
    }
   },
   "outputs": [
    {
     "data": {
      "text/plain": [
       "49.70775152894969"
      ]
     },
     "execution_count": 77,
     "metadata": {},
     "output_type": "execute_result"
    }
   ],
   "source": [
    "incomes.std()"
   ]
  },
  {
   "cell_type": "code",
   "execution_count": 78,
   "metadata": {
    "slideshow": {
     "slide_type": "subslide"
    }
   },
   "outputs": [
    {
     "data": {
      "text/plain": [
       "2470.8605620638004"
      ]
     },
     "execution_count": 78,
     "metadata": {},
     "output_type": "execute_result"
    }
   ],
   "source": [
    "incomes.var()"
   ]
  },
  {
   "cell_type": "markdown",
   "metadata": {
    "slideshow": {
     "slide_type": "slide"
    }
   },
   "source": [
    "## Análisis descriptivo\n",
    "- Librerías importantes\n",
    "- Tipos de datos\n",
    "- Medidas de tendencia central\n",
    "- Medidas de simetría y curtosis\n",
    "- Distribución de los datos\n",
    "- Medidas de posición no central\n",
    "- Medidas de dispersión\n",
    "- **[Miniproyecto](ejercicios/titanic_dataset.ipynb)**"
   ]
  }
 ],
 "metadata": {
  "celltoolbar": "Slideshow",
  "kernelspec": {
   "display_name": "Python 3",
   "language": "python",
   "name": "python3"
  },
  "language_info": {
   "codemirror_mode": {
    "name": "ipython",
    "version": 3
   },
   "file_extension": ".py",
   "mimetype": "text/x-python",
   "name": "python",
   "nbconvert_exporter": "python",
   "pygments_lexer": "ipython3",
   "version": "3.8.5"
  },
  "livereveal": {
   "width": 1024
  }
 },
 "nbformat": 4,
 "nbformat_minor": 2
}
