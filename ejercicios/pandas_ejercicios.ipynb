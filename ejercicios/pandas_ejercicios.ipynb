{
 "cells": [
  {
   "cell_type": "markdown",
   "metadata": {},
   "source": [
    "#### 0.Importa `numpy as np` y `pandas as pd` e imprime la versión de pandas"
   ]
  },
  {
   "cell_type": "code",
   "execution_count": 3,
   "metadata": {},
   "outputs": [],
   "source": [
    "import numpy as np\n",
    "import pandas as pd"
   ]
  },
  {
   "cell_type": "markdown",
   "metadata": {},
   "source": [
    "#### 1. Crea una serie a partir de una lista, un array numpy y un diccionario\n",
    "\n",
    "Input: \n",
    "```\n",
    "mylist = list('abcedfghijklmnopqrstuvwxyz')\n",
    "myarr = np.arange(26)\n",
    "mydict = dict(zip(mylist, myarr))\n",
    "```\n",
    "\n",
    "Output (head):\n",
    "```\n",
    "0    a\n",
    "1    b\n",
    "2    c\n",
    "3    e\n",
    "4    d\n",
    "dtype: object\n",
    "\n",
    "0    0\n",
    "1    1\n",
    "2    2\n",
    "3    3\n",
    "4    4\n",
    "dtype: int64\n",
    "\n",
    "a    0\n",
    "b    1\n",
    "c    2\n",
    "e    3\n",
    "d    4\n",
    "dtype: int64\n",
    "```"
   ]
  },
  {
   "cell_type": "code",
   "execution_count": null,
   "metadata": {},
   "outputs": [],
   "source": []
  },
  {
   "cell_type": "markdown",
   "metadata": {},
   "source": [
    "#### 2. Convierte una serie en un dataframe cuyo índice es otra columna del dataset distinta a la de la serie\n",
    "\n",
    "Input:\n",
    "```\n",
    "mylist = list('abcedfghijklmnopqrstuvwxyz')\n",
    "myarr = np.arange(26)\n",
    "mydict = dict(zip(mylist, myarr))\n",
    "ser = pd.Series(mydict)\n",
    "```\n",
    "\n",
    "Output (head):\n",
    "```\n",
    "  index  0\n",
    "0     a  0\n",
    "1     b  1\n",
    "2     c  2\n",
    "3     e  3\n",
    "4     d  4\n",
    "```"
   ]
  },
  {
   "cell_type": "code",
   "execution_count": null,
   "metadata": {},
   "outputs": [],
   "source": []
  },
  {
   "cell_type": "markdown",
   "metadata": {},
   "source": [
    "#### 3. Combina dos series en un dataframe\n",
    "\n",
    "Input:\n",
    "```\n",
    "ser1 = pd.Series(list('abcedfghijklmnopqrstuvwxyz'))\n",
    "ser2 = pd.Series(np.arange(26))\n",
    "```\n",
    "\n",
    "Output (head(10)):\n",
    "```\n",
    "\t0\t1\n",
    "0\ta\t0\n",
    "1\tb\t1\n",
    "2\tc\t2\n",
    "3\te\t3\n",
    "4\td\t4\n",
    "5\tf\t5\n",
    "6\tg\t6\n",
    "7\th\t7\n",
    "8\ti\t8\n",
    "9\tj\t9\n",
    "```"
   ]
  },
  {
   "cell_type": "code",
   "execution_count": null,
   "metadata": {},
   "outputs": [],
   "source": []
  },
  {
   "cell_type": "markdown",
   "metadata": {},
   "source": [
    "#### 4. Calcular la diferencia de las diferencias entre números consecutivos de una serie\n",
    "\n",
    "Input:\n",
    "```\n",
    "ser = pd.Series([1, 3, 6, 10, 15, 21, 27, 35])\n",
    "```\n",
    "\n",
    "Output:\n",
    "```\n",
    "[nan, 2.0, 3.0, 4.0, 5.0, 6.0, 6.0, 8.0]\n",
    "[nan, nan, 1.0, 1.0, 1.0, 1.0, 0.0, 2.0]\n",
    "```\n"
   ]
  },
  {
   "cell_type": "code",
   "execution_count": null,
   "metadata": {},
   "outputs": [],
   "source": []
  },
  {
   "cell_type": "markdown",
   "metadata": {},
   "source": [
    "#### 5. Importar sólo las columnas `crim` y `medv` del dataset BostonHousing\n",
    "\n",
    "Input:\n",
    "```\n",
    "url = 'https://raw.githubusercontent.com/selva86/datasets/master/BostonHousing.csv'\n",
    "```\n",
    "\n",
    "Output (head):\n",
    "```\n",
    "      crim  medv\n",
    "0  0.00632  24.0\n",
    "1  0.02731  21.6\n",
    "2  0.02729  34.7\n",
    "3  0.03237  33.4\n",
    "4  0.06905  36.2\n",
    "```"
   ]
  },
  {
   "cell_type": "code",
   "execution_count": null,
   "metadata": {},
   "outputs": [],
   "source": []
  },
  {
   "cell_type": "markdown",
   "metadata": {},
   "source": [
    "#### 6.1 BostonHousing: ¿Qué fabricante, modelo y tipo tienen el precio más alto?\n",
    "\n",
    "Input:\n",
    "```\n",
    "df = pd.read_csv('https://raw.githubusercontent.com/selva86/datasets/master/Cars93_miss.csv')\n",
    "```\n",
    "\n",
    "Output:\n",
    "```\n",
    "Mercedes-Benz\t300E\tMidsize\n",
    "```"
   ]
  },
  {
   "cell_type": "code",
   "execution_count": null,
   "metadata": {},
   "outputs": [],
   "source": []
  },
  {
   "cell_type": "markdown",
   "metadata": {},
   "source": [
    "#### 6.2 BostonHousing: ¿Cuál es el índice de la fila y columna de la celda con el mayor precio del paso anterior?\n",
    "\n",
    "Input:\n",
    "```\n",
    "df = pd.read_csv('https://raw.githubusercontent.com/selva86/datasets/master/Cars93_miss.csv')\n",
    "```\n",
    "\n",
    "Output:\n",
    "```\n",
    "58, 4\n",
    "```"
   ]
  },
  {
   "cell_type": "code",
   "execution_count": null,
   "metadata": {},
   "outputs": [],
   "source": []
  },
  {
   "cell_type": "markdown",
   "metadata": {},
   "source": [
    "#### 7. BostonHousing: Filtra el fabricante, modelo y tipo de cada 20 filas empezando por la primera (fila 0)\n",
    "\n",
    "Input:\n",
    "```\n",
    "df = pd.read_csv('https://raw.githubusercontent.com/selva86/datasets/master/Cars93_miss.csv')\n",
    "```\n",
    "\n",
    "Output:\n",
    "```\n",
    "   Manufacturer    Model     Type\n",
    "0         Acura  Integra    Small\n",
    "20     Chrysler  LeBaron  Compact\n",
    "40        Honda  Prelude   Sporty\n",
    "60      Mercury   Cougar  Midsize\n",
    "80       Subaru   Loyale    Small\n",
    "```"
   ]
  },
  {
   "cell_type": "code",
   "execution_count": null,
   "metadata": {},
   "outputs": [],
   "source": []
  },
  {
   "cell_type": "markdown",
   "metadata": {},
   "source": [
    "#### 8. Calcula el precio medio de cada fruta manteniendo el índice\n",
    "\n",
    "Input:\n",
    "```\n",
    "df = pd.DataFrame({'fruit': ['apple', 'banana', 'orange'] * 3,\n",
    "                   'rating': np.random.rand(9),\n",
    "                   'price': np.random.randint(0, 15, 9)})\n",
    "```\n",
    "\n",
    "Output:\n",
    "```\n",
    "    fruit     price\n",
    "0   apple  5.333333\n",
    "1  banana  8.666667\n",
    "2  orange  2.666667\n",
    "```"
   ]
  },
  {
   "cell_type": "code",
   "execution_count": null,
   "metadata": {},
   "outputs": [],
   "source": []
  },
  {
   "cell_type": "markdown",
   "metadata": {},
   "source": [
    "#### 9. Obtén los elementos que se encuentran en las filas indicadas en `list_pos`\n",
    "\n",
    "Input:\n",
    "```\n",
    "ser = pd.Series(list('abcdefghijklmnopqrstuvwxyz'))\n",
    "pos = [0, 4, 8, 14, 20]\n",
    "```\n",
    "\n",
    "Output:\n",
    "```\n",
    "0     a\n",
    "4     e\n",
    "8     i\n",
    "14    o\n",
    "20    u\n",
    "dtype: object\n",
    "```"
   ]
  },
  {
   "cell_type": "code",
   "execution_count": null,
   "metadata": {},
   "outputs": [],
   "source": []
  },
  {
   "cell_type": "markdown",
   "metadata": {},
   "source": [
    "#### 10. Elimina de ser1 los items de ser2\n",
    "\n",
    "Input:\n",
    "```\n",
    "ser1 = pd.Series([1, 2, 3, 4, 5])\n",
    "ser2 = pd.Series([4, 5, 6, 7, 8])\n",
    "```\n",
    "\n",
    "Output:\n",
    "```\n",
    "0    1\n",
    "1    2\n",
    "2    3\n",
    "dtype: int64\n",
    "```"
   ]
  },
  {
   "cell_type": "code",
   "execution_count": null,
   "metadata": {},
   "outputs": [],
   "source": []
  },
  {
   "cell_type": "markdown",
   "metadata": {},
   "source": [
    "#### 11. Obtén los elementos no comunes entre 2 series\n",
    "\n",
    "Input:\n",
    "```\n",
    "ser1 = pd.Series([1, 2, 3, 4, 5])\n",
    "ser2 = pd.Series([4, 5, 6, 7, 8])\n",
    "```\n",
    "\n",
    "Output:\n",
    "```\n",
    "0    1\n",
    "1    2\n",
    "2    3\n",
    "5    6\n",
    "6    7\n",
    "7    8\n",
    "dtype: int64\n",
    "```"
   ]
  },
  {
   "cell_type": "code",
   "execution_count": null,
   "metadata": {},
   "outputs": [],
   "source": []
  },
  {
   "cell_type": "markdown",
   "metadata": {},
   "source": [
    "#### 12. Obtener el mínimo, percentil 25, mediana, percentil 75, y máximo valor de un set\n",
    "\n",
    "Input:\n",
    "```\n",
    "ser = pd.Series(np.random.normal(10, 5, 25))\n",
    "```\n",
    "\n",
    "Output:\n",
    "```\n",
    "array([ 1.25117263,  7.70986507, 10.92259345, 13.36360403, 18.0949083 ])\n",
    "```\n",
    "(*) Los valores pueden variar al ser random"
   ]
  },
  {
   "cell_type": "code",
   "execution_count": null,
   "metadata": {},
   "outputs": [],
   "source": []
  },
  {
   "cell_type": "markdown",
   "metadata": {},
   "source": [
    "#### 13. Dada una serie, mantener los 2 valores más frecuentes y sustituir el resto por el valor `Other`\n",
    "\n",
    "Input:\n",
    "```\n",
    "ser = pd.Series(np.random.randint(1, 5, [12]))\n",
    "```\n",
    "\n",
    "Output:\n",
    "```\n",
    "Top Freq: \n",
    "4    5\n",
    "3    3\n",
    "2    2\n",
    "1    2\n",
    "dtype: int64\n",
    "\n",
    "Result:\n",
    "0     Other\n",
    "1     Other\n",
    "2         3\n",
    "3         4\n",
    "4     Other\n",
    "5         4\n",
    "```\n",
    "(*) Los valores pueden variar al ser random"
   ]
  },
  {
   "cell_type": "code",
   "execution_count": null,
   "metadata": {},
   "outputs": [],
   "source": []
  },
  {
   "cell_type": "markdown",
   "metadata": {},
   "source": [
    "#### 14. Coloca la serie en 10 grupos de 10 elementos iguales y reemplaza los valores con el nombre del grupo\n",
    "\n",
    "Input\n",
    "```\n",
    "ser = pd.Series(np.random.random(20))\n",
    "```\n",
    "\n",
    "Output:\n",
    "```\n",
    "# First 5 items\n",
    "0    7th\n",
    "1    9th\n",
    "2    7th\n",
    "3    3rd\n",
    "4    8th\n",
    "dtype: category\n",
    "Categories (10, object): [1st < 2nd < 3rd < 4th ... 7th < 8th < 9th < 10th]\n",
    "```\n",
    "(*) Los valores pueden variar al ser random"
   ]
  },
  {
   "cell_type": "code",
   "execution_count": null,
   "metadata": {},
   "outputs": [],
   "source": []
  },
  {
   "cell_type": "markdown",
   "metadata": {},
   "source": [
    "#### 15. Crear 2 nuevas columnas en df, una con el lag1 (el valor de la columna `a` en la fila siguiente a cada celda) y la otra con el lead1 (valor de la columna `b` en la fila anterior a cada celda)\n",
    "\n",
    "Input:\n",
    "```\n",
    "df = pd.DataFrame(np.random.randint(1, 100, 20).reshape(-1, 4), columns = list('abcd'))\n",
    "\n",
    "    a   b   c   d\n",
    "0  66  34  76  47\n",
    "1  20  86  10  81\n",
    "2  75  73  51  28\n",
    "3   1   1   9  83\n",
    "4  30  47  67   4\n",
    "```\n",
    "\n",
    "Output:\n",
    "```\n",
    "    a   b   c   d  a_lag1  b_lead1\n",
    "0  66  34  76  47     NaN     86.0\n",
    "1  20  86  10  81    66.0     73.0\n",
    "2  75  73  51  28    20.0      1.0\n",
    "3   1   1   9  83    75.0     47.0\n",
    "4  30  47  67   4     1.0      NaN\n",
    "```\n",
    "(*) Los valores pueden variar al ser random"
   ]
  },
  {
   "cell_type": "code",
   "execution_count": null,
   "metadata": {},
   "outputs": [],
   "source": []
  },
  {
   "cell_type": "markdown",
   "metadata": {},
   "source": [
    "#### 16. Encontrar el 2º valor más alto para la columna `taste` en `bananas`\n",
    "\n",
    "Input:\n",
    "```\n",
    "df = pd.DataFrame({'fruit': ['apple', 'banana', 'orange'] * 3,\n",
    "                   'price': np.random.randint(0, 15, 9),\n",
    "                   'taste': np.random.rand(9)})\n",
    "```\n",
    "\n",
    "Output:\n",
    "```\n",
    "    fruit  price     taste\n",
    "0   apple      7  0.190229\n",
    "1  banana      2  0.438063\n",
    "2  orange      1  0.860182\n",
    "3   apple      6  0.042149\n",
    "4  banana      2  0.896021\n",
    "5  orange      5  0.255107\n",
    "6   apple      6  0.874533\n",
    "7  banana      4  0.696274\n",
    "8  orange      9  0.140713\n",
    "\n",
    "0.69627423645996078\n",
    "```\n",
    "(*) Los valores pueden variar al ser random"
   ]
  },
  {
   "cell_type": "code",
   "execution_count": null,
   "metadata": {},
   "outputs": [],
   "source": []
  },
  {
   "cell_type": "markdown",
   "metadata": {},
   "source": [
    "#### 17. Reemplaza los valores de las diagonales por el valor `0`\n",
    "\n",
    "Input:\n",
    "```\n",
    "df = pd.DataFrame(np.random.randint(1,100, 100).reshape(10, -1))\n",
    "\n",
    "    0   1   2   3   4   5   6   7   8   9\n",
    "0  11  46  26  44  11  62  18  70  68  26\n",
    "1  87  71  52  50  81  43  83  39   3  59\n",
    "2  47  76  93  77  73   2   2  16  14  26\n",
    "3  64  18  74  22  16  37  60   8  66  39\n",
    "4  10  18  39  98  25   8  32   6   3  29\n",
    "5  29  91  27  86  23  84  28  31  97  10\n",
    "6  37  71  70  65   4  72  82  89  12  97\n",
    "7  65  22  97  75  17  10  43  78  12  77\n",
    "8  47  57  96  55  17  83  61  85  26  86\n",
    "9  76  80  28  45  77  12  67  80   7  63\n",
    "```\n",
    "Output:\n",
    "```\n",
    "    0   1   2   3   4   5   6   7   8   9\n",
    "0   0  46  26  44  11  62  18  70  68   0\n",
    "1  87   0  52  50  81  43  83  39   0  59\n",
    "2  47  76   0  77  73   2   2   0  14  26\n",
    "3  64  18  74   0  16  37   0   8  66  39\n",
    "4  10  18  39  98   0   0  32   6   3  29\n",
    "5  29  91  27  86   0   0  28  31  97  10\n",
    "6  37  71  70   0   4  72   0  89  12  97\n",
    "7  65  22   0  75  17  10  43   0  12  77\n",
    "8  47   0  96  55  17  83  61  85   0  86\n",
    "9   0  80  28  45  77  12  67  80   7   0\n",
    "```\n",
    "(*) Los valores pueden variar al ser random"
   ]
  },
  {
   "cell_type": "code",
   "execution_count": null,
   "metadata": {},
   "outputs": [],
   "source": []
  },
  {
   "cell_type": "markdown",
   "metadata": {},
   "source": [
    "#### 18. Añade una columna que contenga el mínimo y otra que contenga el máximo valor por fila\n",
    "\n",
    "Input:\n",
    "```\n",
    "df = pd.DataFrame(np.random.randint(1,100, 80).reshape(8, -1))\n",
    "```\n",
    "\n",
    "Output:\n",
    "```\n",
    "     0    1    2    3    4    5    6    7    8    9  min   max\n",
    "0   56   55   58   77   89   98   17   24   39   10   10   98\n",
    "1   43   51   97   32   78   64   91   73   52   50   32   97\n",
    "2   46   84   80   78   12    9   18    5   45   97    5   97\n",
    "3   66   73   45   27   11   67   56   48   89   49   11   89\n",
    "4   37   15   55    5   95    5   81   36   77   59    5   95\n",
    "5   93    1   64   83   97   67   45   53   42   45    1   97\n",
    "6   14   27   46   70   13   83   41   72   72   93   13   93\n",
    "7   97   30   74   66   25   95   12   75   11   67   11   97\n",
    "```\n",
    "(*) Los valores pueden variar al ser random"
   ]
  },
  {
   "cell_type": "code",
   "execution_count": null,
   "metadata": {},
   "outputs": [],
   "source": []
  },
  {
   "cell_type": "markdown",
   "metadata": {},
   "source": [
    "#### 19. Invierte el orden de las filas del dataset\n",
    "\n",
    "Input:\n",
    "```\n",
    "df = pd.DataFrame(np.arange(25).reshape(5, -1))\n",
    "```\n",
    "\n",
    "Output:\n",
    "```\n",
    "Original:\n",
    "    0   1   2   3   4\n",
    "0   0   1   2   3   4\n",
    "1   5   6   7   8   9\n",
    "2  10  11  12  13  14\n",
    "3  15  16  17  18  19\n",
    "4  20  21  22  23  24\n",
    "\n",
    "Reverse:\n",
    "0\t1\t2\t3\t4\n",
    "4\t20\t21\t22\t23\t24\n",
    "3\t15\t16\t17\t18\t19\n",
    "2\t10\t11\t12\t13\t14\n",
    "1\t5\t6\t7\t8\t9\n",
    "0\t0\t1\t2\t3\t4\n",
    "```"
   ]
  },
  {
   "cell_type": "code",
   "execution_count": null,
   "metadata": {},
   "outputs": [],
   "source": []
  }
 ],
 "metadata": {
  "kernelspec": {
   "display_name": "Python 3",
   "language": "python",
   "name": "python3"
  },
  "language_info": {
   "codemirror_mode": {
    "name": "ipython",
    "version": 3
   },
   "file_extension": ".py",
   "mimetype": "text/x-python",
   "name": "python",
   "nbconvert_exporter": "python",
   "pygments_lexer": "ipython3",
   "version": "3.8.5"
  }
 },
 "nbformat": 4,
 "nbformat_minor": 2
}
