{
 "cells": [
  {
   "cell_type": "markdown",
   "metadata": {},
   "source": [
    "# Ejercicios de numpy"
   ]
  },
  {
   "cell_type": "markdown",
   "metadata": {},
   "source": [
    "#### 0. Importa numpy como `np` e imprime el número de versión"
   ]
  },
  {
   "cell_type": "code",
   "execution_count": 1,
   "metadata": {},
   "outputs": [],
   "source": [
    "import numpy as np"
   ]
  },
  {
   "cell_type": "markdown",
   "metadata": {},
   "source": [
    "#### 1. Crea un array de enteros de 1D del `0` al `9`\n",
    "\n",
    "Output: \n",
    "```array([0, 1, 2, 3, 4, 5, 6, 7, 8, 9])```"
   ]
  },
  {
   "cell_type": "code",
   "execution_count": null,
   "metadata": {},
   "outputs": [],
   "source": []
  },
  {
   "cell_type": "markdown",
   "metadata": {},
   "source": [
    "#### 2. Crea una matriz de 3x3 con todos sus valores a `True`"
   ]
  },
  {
   "cell_type": "code",
   "execution_count": null,
   "metadata": {},
   "outputs": [],
   "source": []
  },
  {
   "cell_type": "markdown",
   "metadata": {},
   "source": [
    "#### 4. Muestra los números impares de una lista de enteros del `1` al `9`\n",
    "\n",
    "    Input: `arr = np.array([0, 1, 2, 3, 4, 5, 6, 7, 8, 9])`\n",
    "\n",
    "    Output: `array([1, 3, 5, 7, 9])`"
   ]
  },
  {
   "cell_type": "code",
   "execution_count": null,
   "metadata": {},
   "outputs": [],
   "source": []
  },
  {
   "cell_type": "markdown",
   "metadata": {},
   "source": [
    "#### 5.2 Reemplaza todos los valores impares por `-1`\n",
    "\n",
    "Input: `arr = np.array([0, 1, 2, 3, 4, 5, 6, 7, 8, 9])`\n",
    "\n",
    "Output: `array([ 0, -1,  2, -1,  4, -1,  6, -1,  8, -1])`"
   ]
  },
  {
   "cell_type": "code",
   "execution_count": null,
   "metadata": {},
   "outputs": [],
   "source": []
  },
  {
   "cell_type": "markdown",
   "metadata": {},
   "source": [
    "#### 5.2 Ahora inténtalo _sin cambiar el array original_\n",
    "\n",
    "Input: \n",
    "```arr = np.array([0, 1, 2, 3, 4, 5, 6, 7, 8, 9])```\n",
    "\n",
    "Output: \n",
    "```\n",
    "out\n",
    "    array([ 0, -1,  2, -1,  4, -1,  6, -1,  8, -1])\n",
    "arr\n",
    "    array([0, 1, 2, 3, 4, 5, 6, 7, 8, 9])\n",
    "```\n"
   ]
  },
  {
   "cell_type": "code",
   "execution_count": null,
   "metadata": {},
   "outputs": [],
   "source": []
  },
  {
   "cell_type": "markdown",
   "metadata": {},
   "source": [
    "#### 6.1 Convierte un array de 1D a 2D con 2 filas\n",
    "\n",
    "Input: `np.arange(10)`\n",
    "\n",
    "Output:\n",
    "```\n",
    "array([[0, 1, 2, 3, 4],\n",
    "       [5, 6, 7, 8, 9]])\n",
    "       ```"
   ]
  },
  {
   "cell_type": "code",
   "execution_count": null,
   "metadata": {},
   "outputs": [],
   "source": []
  },
  {
   "cell_type": "markdown",
   "metadata": {},
   "source": [
    "#### 6.2 Convierte un array de 1D a 2D con 2 columnas\n",
    "\n",
    "Input: `np.arange(10)`\n",
    "\n",
    "Output:\n",
    "```\n",
    "array([[0, 1],\n",
    "       [2, 3],\n",
    "       [4, 5],\n",
    "       [6, 7],\n",
    "       [8, 9]])\n",
    "       ```"
   ]
  },
  {
   "cell_type": "code",
   "execution_count": null,
   "metadata": {},
   "outputs": [],
   "source": []
  },
  {
   "cell_type": "markdown",
   "metadata": {},
   "source": [
    "#### 7.1 Une estos dos arrays verticalmente\n",
    "\n",
    "Input:\n",
    "```\n",
    "a = np.arange(10).reshape(2,-1)\n",
    "b = np.repeat(1, 10).reshape(2,-1)\n",
    "```\n",
    "\n",
    "Output:\n",
    "```\n",
    "array([[0, 1, 2, 3, 4],\n",
    "       [5, 6, 7, 8, 9],\n",
    "       [1, 1, 1, 1, 1],\n",
    "       [1, 1, 1, 1, 1]])\n",
    "```"
   ]
  },
  {
   "cell_type": "code",
   "execution_count": null,
   "metadata": {},
   "outputs": [],
   "source": []
  },
  {
   "cell_type": "markdown",
   "metadata": {},
   "source": [
    "#### 7.2 Une estos dos arrays horizontalmente\n",
    "\n",
    "Input:\n",
    "```\n",
    "a = np.arange(10).reshape(2,-1)\n",
    "b = np.repeat(1, 10).reshape(2,-1)\n",
    "```\n",
    "\n",
    "Output:\n",
    "```\n",
    "array([[0, 1, 2, 3, 4, 1, 1, 1, 1, 1],\n",
    "       [5, 6, 7, 8, 9, 1, 1, 1, 1, 1]])\n",
    "```"
   ]
  },
  {
   "cell_type": "code",
   "execution_count": null,
   "metadata": {},
   "outputs": [],
   "source": []
  },
  {
   "cell_type": "markdown",
   "metadata": {},
   "source": [
    "#### 8. Obtén la media, mediana y desviación típica de los elementos del array\n",
    "\n",
    "Input:\n",
    "```\n",
    "arr = np.random.random((5, 3))\n",
    "```\n",
    "\n",
    "Output:\n",
    "```\n",
    "0.4026456309960461 0.27836938509379616 0.29023285811966365\n",
    "```\n",
    "(*) Los números probablemente no coincidan al ser random"
   ]
  },
  {
   "cell_type": "code",
   "execution_count": null,
   "metadata": {},
   "outputs": [],
   "source": []
  },
  {
   "cell_type": "markdown",
   "metadata": {},
   "source": [
    "#### 9. Imprime un array de números decimales mostrando sólo 3 decimales\n",
    "\n",
    "Input:\n",
    "```\n",
    "rand_arr = np.random.random((5,3))\n",
    "```\n",
    "\n",
    "Output:\n",
    "```\n",
    "   array([[ 0.443,  0.109,  0.97 ],\n",
    "          [ 0.388,  0.447,  0.191],\n",
    "          [ 0.891,  0.474,  0.212],\n",
    "          [ 0.609,  0.518,  0.403]])\n",
    "```\n",
    "(*) Los números probablemente no coincidan al ser random"
   ]
  },
  {
   "cell_type": "code",
   "execution_count": null,
   "metadata": {},
   "outputs": [],
   "source": []
  },
  {
   "cell_type": "markdown",
   "metadata": {},
   "source": [
    "#### 10. Secuencia predeterminada sin \"harcoding\"\n",
    "\n",
    "Input:\n",
    "```\n",
    "a = np.array([1,2,3])\n",
    "```\n",
    "\n",
    "Output:\n",
    "```\n",
    "array([1, 1, 1, 2, 2, 2, 3, 3, 3, 1, 2, 3, 1, 2, 3, 1, 2, 3])\n",
    "```"
   ]
  },
  {
   "cell_type": "code",
   "execution_count": null,
   "metadata": {},
   "outputs": [],
   "source": []
  },
  {
   "cell_type": "markdown",
   "metadata": {},
   "source": [
    "#### 11. Obtén los elementos comunes de dos arrays\n",
    "\n",
    "\n",
    "Input:\n",
    "```\n",
    "a = np.array([1,2,3,2,3,4,3,4,5,6])\n",
    "b = np.array([7,2,10,2,7,4,9,4,9,8])\n",
    "```\n",
    "\n",
    "Output:\n",
    "```\n",
    "array([2, 4])\n",
    "```"
   ]
  },
  {
   "cell_type": "code",
   "execution_count": null,
   "metadata": {},
   "outputs": [],
   "source": []
  },
  {
   "cell_type": "markdown",
   "metadata": {},
   "source": [
    "#### 12. Elimina de `a` los elementos que estén en `b`\n",
    "\n",
    "\n",
    "Input:\n",
    "```\n",
    "a = np.array([1,2,3,4,5])\n",
    "b = np.array([5,6,7,8,9])\n",
    "```\n",
    "\n",
    "Output:\n",
    "```\n",
    "array([1,2,3,4])\n",
    "```"
   ]
  },
  {
   "cell_type": "code",
   "execution_count": null,
   "metadata": {},
   "outputs": [],
   "source": []
  },
  {
   "cell_type": "markdown",
   "metadata": {},
   "source": [
    "#### 13. Obtén los índices de los elementos que `a` y `b` tienen en común\n",
    "\n",
    "Input:\n",
    "```\n",
    "a = np.array([1,2,3,2,3,4,3,4,5,6])\n",
    "b = np.array([7,2,10,2,7,4,9,4,9,8])\n",
    "```\n",
    "\n",
    "Output:\n",
    "```\n",
    "(array([1, 3, 5, 7]),)\n",
    "```"
   ]
  },
  {
   "cell_type": "code",
   "execution_count": null,
   "metadata": {},
   "outputs": [],
   "source": []
  },
  {
   "cell_type": "markdown",
   "metadata": {},
   "source": [
    "#### 14. Obtén todos los items entre el 5 y el 10 de `a`\n",
    "\n",
    "Input: \n",
    "```\n",
    "a = np.array([2, 6, 1, 9, 10, 3, 27])\n",
    "```\n",
    "\n",
    "Output:\n",
    "```\n",
    "(array([6, 9, 10]),)\n",
    "```"
   ]
  },
  {
   "cell_type": "code",
   "execution_count": null,
   "metadata": {},
   "outputs": [],
   "source": []
  },
  {
   "cell_type": "markdown",
   "metadata": {},
   "source": [
    "#### 15. Intercambia las filas 0 y 1 de la matriz\n",
    "\n",
    "Input:\n",
    "```\n",
    "arr = np.arange(9).reshape(3,3)\n",
    "```\n",
    "\n",
    "Output:\n",
    "```\n",
    "array([[3, 4, 5],\n",
    "       [0, 1, 2],\n",
    "       [6, 7, 8]])\n",
    "```"
   ]
  },
  {
   "cell_type": "code",
   "execution_count": null,
   "metadata": {},
   "outputs": [],
   "source": []
  },
  {
   "cell_type": "markdown",
   "metadata": {},
   "source": [
    "#### 16. Invierte el orden de las columnas de un array 2D\n",
    "\n",
    "Input:\n",
    "```\n",
    "arr = np.arange(9).reshape(3,3)\n",
    "```\n",
    "\n",
    "Output:\n",
    "```\n",
    "array([[2, 1, 0],\n",
    "       [5, 4, 3],\n",
    "       [8, 7, 6]])\n",
    "```"
   ]
  },
  {
   "cell_type": "code",
   "execution_count": null,
   "metadata": {},
   "outputs": [],
   "source": []
  },
  {
   "cell_type": "markdown",
   "metadata": {},
   "source": [
    "#### 17.1 Crear un array de 5x3 que contenga números random _enteros_ entre el 5 y el 10"
   ]
  },
  {
   "cell_type": "code",
   "execution_count": null,
   "metadata": {},
   "outputs": [],
   "source": []
  },
  {
   "cell_type": "markdown",
   "metadata": {},
   "source": [
    "#### 17.2 Crear un array de 5x3 que contenga números _decimales_ random entre el 5 y el 10"
   ]
  },
  {
   "cell_type": "code",
   "execution_count": null,
   "metadata": {},
   "outputs": [],
   "source": []
  },
  {
   "cell_type": "markdown",
   "metadata": {},
   "source": [
    "#### 18. Encuentra el índice de la 5ª repetición del número 1\n",
    "\n",
    "Input: \n",
    "```\n",
    "x = np.array([1, 2, 1, 1, 3, 4, 3, 1, 1, 2, 1, 1, 2])\n",
    "```\n",
    "\n",
    "Output:\n",
    "```\n",
    "8\n",
    "```\n"
   ]
  },
  {
   "cell_type": "code",
   "execution_count": null,
   "metadata": {},
   "outputs": [],
   "source": []
  },
  {
   "cell_type": "markdown",
   "metadata": {},
   "source": [
    "#### 19. Elimina los valores NaN de un array\n",
    "\n",
    "Input: \n",
    "```\n",
    "a = np.array([1,2,3,np.nan,5,6,7,np.nan])\n",
    "```\n",
    "\n",
    "Output:\n",
    "```\n",
    "array([ 1.,  2.,  3.,  5.,  6.,  7.])\n",
    "```"
   ]
  },
  {
   "cell_type": "code",
   "execution_count": null,
   "metadata": {},
   "outputs": [],
   "source": []
  }
 ],
 "metadata": {
  "kernelspec": {
   "display_name": "Python 3",
   "language": "python",
   "name": "python3"
  },
  "language_info": {
   "codemirror_mode": {
    "name": "ipython",
    "version": 3
   },
   "file_extension": ".py",
   "mimetype": "text/x-python",
   "name": "python",
   "nbconvert_exporter": "python",
   "pygments_lexer": "ipython3",
   "version": "3.6.8"
  }
 },
 "nbformat": 4,
 "nbformat_minor": 2
}
